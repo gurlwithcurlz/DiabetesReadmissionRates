{
 "cells": [
  {
   "cell_type": "code",
   "execution_count": 2,
   "metadata": {},
   "outputs": [],
   "source": [
    "# Selina 26 Feb 2019\n",
    "# Program to create a logistic regression model to predict readmission rates\n",
    "# Import relevant modules\n",
    "import os\n",
    "import numpy as np\n",
    "#from sklearn import datasets, linear_model\n",
    "#from sklearn.metrics import mean_squared_error, r2_score\n",
    "\n",
    "# Set directories, filenames and url api\n",
    "dataFolder = os.getcwd()\n",
    "inputFileName='10kDiabetes.csv'\n",
    "    # This is my filename with merged data and geodata\n",
    "input_file=os.path.join(dataFolder,inputFileName)\n",
    "\n",
    "# Read in data\n",
    "raw_data=pd.read_csv(input_file)\n",
    "#raw_data.columns  Have a look at what the columns are and see the unique info\n",
    "#raw_data.loc[:,'readmitted'].unique()\n"
   ]
  },
  {
   "cell_type": "code",
   "execution_count": 3,
   "metadata": {},
   "outputs": [],
   "source": [
    "# Ok, first apply criteria for acceptance of data\n",
    "# Apply the same criteria as the paper used\n",
    "\n",
    "# First of all, we only want to look at inpatient encounters \n",
    "# with hospitaliztion that lasted 1-14 days\n",
    "cleaned_data=raw_data.copy()\n",
    "\n",
    "idx1=cleaned_data.index[cleaned_data['time_in_hospital']>0]\n",
    "idx2=cleaned_data.index[cleaned_data['time_in_hospital']<=14]\n",
    "idx=idx1 & idx2\n",
    "cleaned_data=cleaned_data.loc[idx,:]\n",
    "\n",
    "# Ok, for our analysis, remove patient data with multiple inpatient encounters\n",
    "idx=cleaned_data.index[cleaned_data['number_inpatient']==0]\n",
    "cleaned_data=cleaned_data.loc[idx,:]\n",
    "#cleaned_data.columns\n",
    "\n",
    "# Only look at data where patients have been diagnosed with diabetes\n",
    "idx1=cleaned_data['diag_1_desc'].str.contains('diabetes mellitus',case=False)\n",
    "idx2=cleaned_data['diag_2_desc'].str.contains('diabetes mellitus',case=False)\n",
    "idx3=cleaned_data['diag_3_desc'].str.contains('diabetes mellitus',case=False)\n",
    "idx=idx1 | idx2 | idx3\n",
    "idx=idx[idx==True]\n",
    "\n",
    "cleaned_data=cleaned_data.loc[idx.index,:]\n",
    "#Series.str.contains(pat, case=True, flags=0, na=nan, regex=True)[source]\n",
    "\n",
    "# Remove data where patient died or was transfered to hospice\n",
    "idx1=cleaned_data['discharge_disposition_id'].str.contains('expired',case=False)\n",
    "idx2=cleaned_data['discharge_disposition_id'].str.contains('hospice',case=False)\n",
    "idx3=cleaned_data['discharge_disposition_id'].apply(pd.isnull)\n",
    "idx=(idx1 | idx2)\n",
    "idx=idx[idx==True]\n",
    "cleaned_data=cleaned_data.drop(index=idx.index)\n",
    "idx3=idx3[idx3==True]\n",
    "cleaned_data.loc[idx3.index,'discharge_disposition_id']='NA'\n",
    "# Also, regroup data into home and other (create new variable)\n",
    "idx=cleaned_data['discharge_disposition_id'].str.contains('home',case=False)\n",
    "idx1=idx[idx==True]\n",
    "cleaned_data.loc[idx1.index,'discharge_home']=idx1\n",
    "idx2=idx[idx!=True]\n",
    "cleaned_data.loc[idx2.index,'discharge_home']=idx2\n",
    "cleaned_data.loc[idx3.index,'discharge_home']='NA'\n",
    "\n",
    "\n",
    "# In this dataset, medication was always given so no need to apply criterion\n",
    "# (Checked in excel)\n"
   ]
  },
  {
   "cell_type": "code",
   "execution_count": 4,
   "metadata": {},
   "outputs": [],
   "source": [
    "# Also, clean up data\n",
    "idx=cleaned_data.index[cleaned_data['race']=='?']\n",
    "cleaned_data.loc[idx,'race']='NA'\n",
    "\n",
    "idx1=cleaned_data.index[cleaned_data['admission_type_id'].apply(pd.isnull)]\n",
    "idx2=cleaned_data.index[cleaned_data['admission_type_id']=='Not Available']\n",
    "idx3=cleaned_data.index[cleaned_data['admission_type_id']=='Not Mapped']\n",
    "idx=idx1 | idx2 | idx3\n",
    "cleaned_data.loc[idx,'admission_type_id']='NA'\n",
    "\n",
    "# Note: Medical specialty had too many missing values in paper\n",
    "idx=cleaned_data.index[cleaned_data['medical_specialty']=='?']\n",
    "cleaned_data.loc[idx,'medical_specialty']='NA'\n",
    "\n",
    "# We can drop payer code because it will not be relevant\n",
    "cleaned_data=cleaned_data.drop(columns='payer_code')"
   ]
  },
  {
   "cell_type": "code",
   "execution_count": 97,
   "metadata": {},
   "outputs": [],
   "source": [
    "# Ok..now let's do the logistic regression\n",
    "# We will take a different approach from the paper, since the A1C measurement \n",
    "# is not the focus\n",
    "# Our goal is to identify the risk of readmission, whatever the predictors could be\n",
    "# So, first let's fit a saturated model\n",
    "\n",
    "# # First let's get our predictors in the right format\n",
    "import numpy\n",
    "import matplotlib.pyplot as plt\n",
    "import pandas as pd\n",
    "import statsmodels.api as sm\n",
    "from sklearn.model_selection import train_test_split\n",
    "from sklearn.cluster import KMeans\n",
    "import sklearn.metrics\n",
    "\n",
    "\n",
    "# Following is code for sklearn version\n",
    "y=cleaned_data.loc[:,'readmitted'] \n",
    "# First deal with categorical variables\n",
    "cat_variables=['race','gender','age','admission_type_id',\\\n",
    "                'max_glu_serum','A1Cresult','change','diabetesMed','discharge_home']\n",
    "\n",
    "X=pd.DataFrame()\n",
    "X = X.fillna(0) # with 0s rather than NaNs\n",
    "for ii,var in enumerate(cat_variables):\n",
    "    xdummy=pd.get_dummies(cleaned_data.loc[:,var],prefix=var)\n",
    "    X=pd.concat([X,xdummy],axis=1)\n",
    "\n",
    "# Now deal with quantitative varibles\n",
    "quant_variables=['num_lab_procedures','num_procedures','num_medications','number_outpatient',\\\n",
    "                'number_emergency','time_in_hospital']\n",
    "\n",
    "# Now add to our X\n",
    "for ii,var in enumerate(quant_variables):\n",
    "    xtemp=cleaned_data.loc[:,var]\n",
    "    X=pd.concat([X,xtemp],axis=1)\n",
    "\n",
    "    \n",
    "# Now split our data into 3 groups:\n",
    "# 1. Training set, validation set (to select best parameters of model), & testing set\n",
    "# Split into 60:20:20\n",
    "X_train, X_test_all, y_train, y_test_all = train_test_split(X, y, test_size=0.2)\n",
    "    # We have training set\n",
    "X_xtest, X_validate, y_xtest, y_validate = train_test_split(X_test_all, y_test_all, test_size=0.5)\n",
    "\n"
   ]
  },
  {
   "cell_type": "code",
   "execution_count": 98,
   "metadata": {},
   "outputs": [],
   "source": [
    "## Ok..we saw from our data exploration that our sample is bias to not_readmitted\n",
    "# This will affect the logistic regression model\n",
    "# So, subsample the not_readmitted training and validating data\n",
    "drop_n=sum(y_train==False)-sum(y_train==True) # Total # of samples you wanna drop\n",
    "maxn=sum(y_train==True) # Total number of subsamples that you want\n",
    "weights1=(y_train==False) # Only sample from not_readmitted data\n",
    "weights2=(y_train==True) # Sample all of the readmitted data\n",
    "xsub_train1=X_train.sample(n=maxn,weights=weights1,random_state=2) # Randomly subsampled data\n",
    "xsub_train2=X_train.sample(n=maxn,weights=weights2)\n",
    "Xsub_train=pd.concat([xsub_train1,xsub_train2],axis=0)\n",
    "# Ok, we have subsampled, now shuffle back the data\n",
    "Xsub_train=Xsub_train.sample(frac=1)\n",
    "ysub_train=y_train.reindex(index=Xsub_train.index) #Subsample y\n",
    "# Now do again from validation set\n",
    "drop_n=sum(y_validate==False)-sum(y_validate==True) # Total # of samples you wanna drop\n",
    "maxn=sum(y_validate==True) # Total number of subsamples that you want\n",
    "weights1=(y_validate==False) # Only sample from not_readmitted data\n",
    "weights2=(y_validate==True) # Sample all of the readmitted data\n",
    "xsub_validate1=X_validate.sample(n=maxn,weights=weights1,random_state=2) # Randomly subsampled data\n",
    "xsub_validate2=X_validate.sample(n=maxn,weights=weights2)\n",
    "Xsub_validate=pd.concat([xsub_validate1,xsub_validate2],axis=0)\n",
    "# Ok, we have subsampled, now shuffle back the data\n",
    "Xsub_validateT=Xsub_validate.sample(frac=1)\n",
    "ysub_validate=y_validate.reindex(index=Xsub_validate.index) #Subsample y\n",
    "\n",
    "# Ok, put the training and validating data we did not use into the testing data\n",
    "y_train=y_train.drop(index=Xsub_train.index)\n",
    "X_train=X_train.drop(index=Xsub_train.index)\n",
    "y_validate=y_validate.drop(index=Xsub_validate.index)\n",
    "X_validate=X_validate.drop(index=Xsub_validate.index)\n",
    "y_xtest=pd.concat([y_xtest,y_train],axis=0)\n",
    "X_xtest=pd.concat([X_xtest,X_train],axis=0)\n",
    "\n",
    "        "
   ]
  },
  {
   "cell_type": "code",
   "execution_count": 91,
   "metadata": {},
   "outputs": [
    {
     "data": {
      "text/plain": [
       "66"
      ]
     },
     "execution_count": 91,
     "metadata": {},
     "output_type": "execute_result"
    }
   ],
   "source": [
    "maxn"
   ]
  },
  {
   "cell_type": "code",
   "execution_count": 127,
   "metadata": {},
   "outputs": [
    {
     "name": "stdout",
     "output_type": "stream",
     "text": [
      "[LibLinear][LibLinear][LibLinear][LibLinear][LibLinear][LibLinear][LibLinear][LibLinear][LibLinear][LibLinear][LibLinear][LibLinear][LibLinear][LibLinear][LibLinear][LibLinear][LibLinear][LibLinear][LibLinear][LibLinear][LibLinear][LibLinear][LibLinear][LibLinear][LibLinear][LibLinear][LibLinear][LibLinear][LibLinear][LibLinear][LibLinear][LibLinear][LibLinear][LibLinear][LibLinear][LibLinear][LibLinear][LibLinear][LibLinear][LibLinear][LibLinear][LibLinear][LibLinear][LibLinear][LibLinear][LibLinear][LibLinear][LibLinear][LibLinear][LibLinear][LibLinear][LibLinear][LibLinear][LibLinear][LibLinear][LibLinear][LibLinear][LibLinear][LibLinear][LibLinear][LibLinear][LibLinear][LibLinear][LibLinear][LibLinear][LibLinear][LibLinear][LibLinear][LibLinear][LibLinear][LibLinear][LibLinear][LibLinear][LibLinear][LibLinear][LibLinear][LibLinear][LibLinear][LibLinear][LibLinear][LibLinear][LibLinear][LibLinear][LibLinear][LibLinear][LibLinear][LibLinear][LibLinear][LibLinear][LibLinear][LibLinear][LibLinear][LibLinear][LibLinear][LibLinear][LibLinear][LibLinear][LibLinear][LibLinear][LibLinear][LibLinear][LibLinear][LibLinear][LibLinear][LibLinear][LibLinear][LibLinear][LibLinear][LibLinear][LibLinear][LibLinear][LibLinear][LibLinear][LibLinear][LibLinear][LibLinear][LibLinear][LibLinear][LibLinear][LibLinear][LibLinear][LibLinear][LibLinear][LibLinear][LibLinear][LibLinear][LibLinear][LibLinear][LibLinear][LibLinear][LibLinear][LibLinear][LibLinear][LibLinear][LibLinear][LibLinear][LibLinear][LibLinear][LibLinear][LibLinear][LibLinear]"
     ]
    },
    {
     "name": "stderr",
     "output_type": "stream",
     "text": [
      "/Applications/anaconda3/lib/python3.7/site-packages/sklearn/model_selection/_search.py:841: DeprecationWarning: The default of the `iid` parameter will change from True to False in version 0.22 and will be removed in 0.24. This will change numeric results when test-set sizes are unequal.\n",
      "  DeprecationWarning)\n"
     ]
    }
   ],
   "source": [
    "# Ok, let's fit the saturated model\n",
    "from sklearn.linear_model import LogisticRegression, LogisticRegressionCV\n",
    "from sklearn.model_selection import KFold,GridSearchCV, RandomizedSearchCV\n",
    "\n",
    "#LogisticRegression(penalty=’l2’, dual=False, tol=0.0001, C=1.0, fit_intercept=True, intercept_scaling=1, class_weight=None, random_state=None, solver=’warn’, max_iter=100, multi_class=’warn’, verbose=0, warm_start=False, n_jobs=None)\n",
    "# Ok, let's search for the best parameters\n",
    "penalty = ['l1','l2']\n",
    "solver=['liblinear','saga']\n",
    "C=[0.1,0.25,0.5,0.75,1,1.5,2,5,10,20,50,100]\n",
    "kfoldsets = KFold(n_splits=10,shuffle=True)\n",
    "\n",
    "params = [dict(penalty=penalty), dict(C=C)] # Put into dictionary format\n",
    "\n",
    "logregCV = LogisticRegression(random_state=5,verbose=True,solver='liblinear')\n",
    "grid = GridSearchCV(logregCV, param_grid=params, cv=kfoldsets)\n",
    "#grid = RandomizedSearchCV(decisionTreeCV, param_distributions=params, cv=kfoldsets)\n",
    "# Fit the grid\n",
    "grid=grid.fit(Xsub_validate, ysub_validate)\n",
    "# Return the optimal params\n",
    "bestParams=grid.best_estimator_\n",
    "\n",
    "# Now do actual fit\n",
    "logreg = LogisticRegression(random_state=5,C=bestParams.C,solver=bestParams.solver,penalty=bestParams.penalty)\n",
    "logreg.fit(Xsub_train,ysub_train)\n",
    "# Now cross-validate (for generalization)\n",
    "y_pred = logreg.predict(X_xtest)\n",
    "# logreg_mse=mean_squared_error(y_pred,y_xtest)\n",
    "# print('Decision Tree Regression R squared: %.4f' % decisionTree.score(X_xtest, y_xtest))\n",
    "# print('Decision Tree Regression mse: %.4f' % dt_mse)\n",
    "# print('Decision Tree Regression average deviation: %.4f' % math.sqrt(dt_mse))\n",
    "\n"
   ]
  },
  {
   "cell_type": "code",
   "execution_count": 128,
   "metadata": {},
   "outputs": [
    {
     "name": "stdout",
     "output_type": "stream",
     "text": [
      "Model accuracy : 0.56\n",
      "[[515 411]\n",
      " [ 16  38]]\n"
     ]
    },
    {
     "data": {
      "image/png": "[encoded data removed]",
      "text/plain": [
       "<Figure size 432x288 with 2 Axes>"
      ]
     },
     "metadata": {
      "needs_background": "light"
     },
     "output_type": "display_data"
    }
   ],
   "source": [
    "# Plot how well the model fit\n",
    "from sklearn.metrics import confusion_matrix\n",
    "#import seaborn as sns\n",
    "from matplotlib import cm\n",
    "cmap = cm.get_cmap('Spectral')\n",
    "\n",
    "logreg_accuracy=np.sum(y_pred==y_xtest)/y_xtest.shape[0]\n",
    "print('Model accuracy : %.2f' %logreg_accuracy)\n",
    "cmatrix=confusion_matrix(y_xtest,y_pred,labels=logreg.classes_)\n",
    "cmatrix\n",
    "# Show it as a heatmap\n",
    "#ax=sns.heatmap(cmatrix, vmin=0, vmax=np.max(cmatrix))\n",
    "\n",
    "\n",
    "# Plot the confusion matrix\n",
    "labels = logreg.classes_\n",
    "print(cmatrix)\n",
    "fig = plt.figure()\n",
    "ax = fig.add_subplot(111)\n",
    "cax = ax.matshow(cmatrix,cmap=cmap)\n",
    "plt.title('Confusion matrix of the classifier')\n",
    "fig.colorbar(cax)\n",
    "#ax.set_xticklabels([''] + labels)\n",
    "#ax.set_yticklabels([''] + labels)\n",
    "plt.xlabel('Predicted')\n",
    "plt.ylabel('True')\n",
    "plt.show()"
   ]
  },
  {
   "cell_type": "code",
   "execution_count": 135,
   "metadata": {},
   "outputs": [
    {
     "data": {
      "text/plain": [
       "array([False,  True])"
      ]
     },
     "execution_count": 135,
     "metadata": {},
     "output_type": "execute_result"
    }
   ],
   "source": [
    "logreg."
   ]
  },
  {
   "cell_type": "code",
   "execution_count": 123,
   "metadata": {},
   "outputs": [
    {
     "data": {
      "text/plain": [
       "LogisticRegression(C=1.0, class_weight=None, dual=False, fit_intercept=True,\n",
       "          intercept_scaling=1, max_iter=100, multi_class='warn',\n",
       "          n_jobs=None, penalty='l1', random_state=5, solver='warn',\n",
       "          tol=0.0001, verbose=True, warm_start=False)"
      ]
     },
     "execution_count": 123,
     "metadata": {},
     "output_type": "execute_result"
    }
   ],
   "source": [
    "grid.best_estimator_\n"
   ]
  },
  {
   "cell_type": "code",
   "execution_count": null,
   "metadata": {},
   "outputs": [],
   "source": []
  }
 ],
 "metadata": {
  "kernelspec": {
   "display_name": "Python 3",
   "language": "python",
   "name": "python3"
  },
  "language_info": {
   "codemirror_mode": {
    "name": "ipython",
    "version": 3
   },
   "file_extension": ".py",
   "mimetype": "text/x-python",
   "name": "python",
   "nbconvert_exporter": "python",
   "pygments_lexer": "ipython3",
   "version": "3.7.1"
  }
 },
 "nbformat": 4,
 "nbformat_minor": 2
}
